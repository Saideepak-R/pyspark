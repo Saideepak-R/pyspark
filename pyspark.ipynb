{
  "nbformat": 4,
  "nbformat_minor": 0,
  "metadata": {
    "colab": {
      "name": "pyspark.ipynb",
      "provenance": []
    },
    "kernelspec": {
      "name": "python3",
      "display_name": "Python 3"
    },
    "language_info": {
      "name": "python"
    }
  },
  "cells": [
    {
      "cell_type": "code",
      "metadata": {
        "id": "49Sblr7H99db"
      },
      "source": [
        "import pyspark"
      ],
      "execution_count": 4,
      "outputs": []
    },
    {
      "cell_type": "code",
      "metadata": {
        "id": "CCZnWBFt-Vks"
      },
      "source": [
        "from pyspark.sql import SparkSession\n",
        "from pyspark.sql.functions import *\n",
        "from pyspark.ml.classification import LogisticRegression\n",
        "from pyspark.ml.feature import *\n",
        "from pyspark.ml.evaluation import *"
      ],
      "execution_count": 339,
      "outputs": []
    },
    {
      "cell_type": "code",
      "metadata": {
        "id": "SDrsYyrF-Ywk"
      },
      "source": [
        "spark=SparkSession.builder.appName('Practice').getOrCreate()"
      ],
      "execution_count": 7,
      "outputs": []
    },
    {
      "cell_type": "code",
      "metadata": {
        "colab": {
          "base_uri": "https://localhost:8080/",
          "height": 219
        },
        "id": "PYoNqlTj-cDz",
        "outputId": "e566d0f8-86d6-42c1-b6a5-d23b7223616c"
      },
      "source": [
        "spark"
      ],
      "execution_count": 8,
      "outputs": [
        {
          "output_type": "execute_result",
          "data": {
            "text/html": [
              "\n",
              "            <div>\n",
              "                <p><b>SparkSession - in-memory</b></p>\n",
              "                \n",
              "        <div>\n",
              "            <p><b>SparkContext</b></p>\n",
              "\n",
              "            <p><a href=\"http://66feab29deba:4040\">Spark UI</a></p>\n",
              "\n",
              "            <dl>\n",
              "              <dt>Version</dt>\n",
              "                <dd><code>v3.1.2</code></dd>\n",
              "              <dt>Master</dt>\n",
              "                <dd><code>local[*]</code></dd>\n",
              "              <dt>AppName</dt>\n",
              "                <dd><code>Practice</code></dd>\n",
              "            </dl>\n",
              "        </div>\n",
              "        \n",
              "            </div>\n",
              "        "
            ],
            "text/plain": [
              "<pyspark.sql.session.SparkSession at 0x7f4b9abd6c90>"
            ]
          },
          "metadata": {
            "tags": []
          },
          "execution_count": 8
        }
      ]
    },
    {
      "cell_type": "code",
      "metadata": {
        "id": "YSO29RMrC0Ix"
      },
      "source": [
        "df_new = spark.read.csv('/content/train.csv')"
      ],
      "execution_count": 282,
      "outputs": []
    },
    {
      "cell_type": "code",
      "metadata": {
        "id": "sqv7VqUBDcVX"
      },
      "source": [
        "df_new = spark.read.option('header' , 'true').csv('/content/train.csv')"
      ],
      "execution_count": 283,
      "outputs": []
    },
    {
      "cell_type": "code",
      "metadata": {
        "colab": {
          "base_uri": "https://localhost:8080/"
        },
        "id": "0PmK7U96DvGU",
        "outputId": "31fad680-8a4a-4c0a-b26d-926b6475d1bb"
      },
      "source": [
        "df_new.show(5)"
      ],
      "execution_count": 284,
      "outputs": [
        {
          "output_type": "stream",
          "text": [
            "+-----------+--------+------+--------------------+------+---+-----+-----+----------------+-------+-----+--------+\n",
            "|PassengerId|Survived|Pclass|                Name|   Sex|Age|SibSp|Parch|          Ticket|   Fare|Cabin|Embarked|\n",
            "+-----------+--------+------+--------------------+------+---+-----+-----+----------------+-------+-----+--------+\n",
            "|          1|       0|     3|Braund, Mr. Owen ...|  male| 22|    1|    0|       A/5 21171|   7.25| null|       S|\n",
            "|          2|       1|     1|Cumings, Mrs. Joh...|female| 38|    1|    0|        PC 17599|71.2833|  C85|       C|\n",
            "|          3|       1|     3|Heikkinen, Miss. ...|female| 26|    0|    0|STON/O2. 3101282|  7.925| null|       S|\n",
            "|          4|       1|     1|Futrelle, Mrs. Ja...|female| 35|    1|    0|          113803|   53.1| C123|       S|\n",
            "|          5|       0|     3|Allen, Mr. Willia...|  male| 35|    0|    0|          373450|   8.05| null|       S|\n",
            "+-----------+--------+------+--------------------+------+---+-----+-----+----------------+-------+-----+--------+\n",
            "only showing top 5 rows\n",
            "\n"
          ],
          "name": "stdout"
        }
      ]
    },
    {
      "cell_type": "code",
      "metadata": {
        "colab": {
          "base_uri": "https://localhost:8080/"
        },
        "id": "hMUniVTCDwML",
        "outputId": "99d17d19-4927-48fc-bb6d-ee3189dfa4b5"
      },
      "source": [
        "type(df_new)"
      ],
      "execution_count": 285,
      "outputs": [
        {
          "output_type": "execute_result",
          "data": {
            "text/plain": [
              "pyspark.sql.dataframe.DataFrame"
            ]
          },
          "metadata": {
            "tags": []
          },
          "execution_count": 285
        }
      ]
    },
    {
      "cell_type": "code",
      "metadata": {
        "id": "dbq9Sz0_D3ZX"
      },
      "source": [
        "df = df_new.toPandas()"
      ],
      "execution_count": 286,
      "outputs": []
    },
    {
      "cell_type": "code",
      "metadata": {
        "colab": {
          "base_uri": "https://localhost:8080/"
        },
        "id": "sYU0i1cXhRZv",
        "outputId": "b6d1e154-e5e5-4bec-a27c-a48f15ef32d3"
      },
      "source": [
        "type(df)"
      ],
      "execution_count": 343,
      "outputs": [
        {
          "output_type": "execute_result",
          "data": {
            "text/plain": [
              "pandas.core.frame.DataFrame"
            ]
          },
          "metadata": {
            "tags": []
          },
          "execution_count": 343
        }
      ]
    },
    {
      "cell_type": "code",
      "metadata": {
        "colab": {
          "base_uri": "https://localhost:8080/",
          "height": 206
        },
        "id": "kjuRU1ZzEPuc",
        "outputId": "6bf892b6-ebd3-4e29-9fe5-0d57616a6cdc"
      },
      "source": [
        "df.head()"
      ],
      "execution_count": 287,
      "outputs": [
        {
          "output_type": "execute_result",
          "data": {
            "text/html": [
              "<div>\n",
              "<style scoped>\n",
              "    .dataframe tbody tr th:only-of-type {\n",
              "        vertical-align: middle;\n",
              "    }\n",
              "\n",
              "    .dataframe tbody tr th {\n",
              "        vertical-align: top;\n",
              "    }\n",
              "\n",
              "    .dataframe thead th {\n",
              "        text-align: right;\n",
              "    }\n",
              "</style>\n",
              "<table border=\"1\" class=\"dataframe\">\n",
              "  <thead>\n",
              "    <tr style=\"text-align: right;\">\n",
              "      <th></th>\n",
              "      <th>PassengerId</th>\n",
              "      <th>Survived</th>\n",
              "      <th>Pclass</th>\n",
              "      <th>Name</th>\n",
              "      <th>Sex</th>\n",
              "      <th>Age</th>\n",
              "      <th>SibSp</th>\n",
              "      <th>Parch</th>\n",
              "      <th>Ticket</th>\n",
              "      <th>Fare</th>\n",
              "      <th>Cabin</th>\n",
              "      <th>Embarked</th>\n",
              "    </tr>\n",
              "  </thead>\n",
              "  <tbody>\n",
              "    <tr>\n",
              "      <th>0</th>\n",
              "      <td>1</td>\n",
              "      <td>0</td>\n",
              "      <td>3</td>\n",
              "      <td>Braund, Mr. Owen Harris</td>\n",
              "      <td>male</td>\n",
              "      <td>22</td>\n",
              "      <td>1</td>\n",
              "      <td>0</td>\n",
              "      <td>A/5 21171</td>\n",
              "      <td>7.25</td>\n",
              "      <td>None</td>\n",
              "      <td>S</td>\n",
              "    </tr>\n",
              "    <tr>\n",
              "      <th>1</th>\n",
              "      <td>2</td>\n",
              "      <td>1</td>\n",
              "      <td>1</td>\n",
              "      <td>Cumings, Mrs. John Bradley (Florence Briggs Th...</td>\n",
              "      <td>female</td>\n",
              "      <td>38</td>\n",
              "      <td>1</td>\n",
              "      <td>0</td>\n",
              "      <td>PC 17599</td>\n",
              "      <td>71.2833</td>\n",
              "      <td>C85</td>\n",
              "      <td>C</td>\n",
              "    </tr>\n",
              "    <tr>\n",
              "      <th>2</th>\n",
              "      <td>3</td>\n",
              "      <td>1</td>\n",
              "      <td>3</td>\n",
              "      <td>Heikkinen, Miss. Laina</td>\n",
              "      <td>female</td>\n",
              "      <td>26</td>\n",
              "      <td>0</td>\n",
              "      <td>0</td>\n",
              "      <td>STON/O2. 3101282</td>\n",
              "      <td>7.925</td>\n",
              "      <td>None</td>\n",
              "      <td>S</td>\n",
              "    </tr>\n",
              "    <tr>\n",
              "      <th>3</th>\n",
              "      <td>4</td>\n",
              "      <td>1</td>\n",
              "      <td>1</td>\n",
              "      <td>Futrelle, Mrs. Jacques Heath (Lily May Peel)</td>\n",
              "      <td>female</td>\n",
              "      <td>35</td>\n",
              "      <td>1</td>\n",
              "      <td>0</td>\n",
              "      <td>113803</td>\n",
              "      <td>53.1</td>\n",
              "      <td>C123</td>\n",
              "      <td>S</td>\n",
              "    </tr>\n",
              "    <tr>\n",
              "      <th>4</th>\n",
              "      <td>5</td>\n",
              "      <td>0</td>\n",
              "      <td>3</td>\n",
              "      <td>Allen, Mr. William Henry</td>\n",
              "      <td>male</td>\n",
              "      <td>35</td>\n",
              "      <td>0</td>\n",
              "      <td>0</td>\n",
              "      <td>373450</td>\n",
              "      <td>8.05</td>\n",
              "      <td>None</td>\n",
              "      <td>S</td>\n",
              "    </tr>\n",
              "  </tbody>\n",
              "</table>\n",
              "</div>"
            ],
            "text/plain": [
              "  PassengerId Survived Pclass  ...     Fare Cabin Embarked\n",
              "0           1        0      3  ...     7.25  None        S\n",
              "1           2        1      1  ...  71.2833   C85        C\n",
              "2           3        1      3  ...    7.925  None        S\n",
              "3           4        1      1  ...     53.1  C123        S\n",
              "4           5        0      3  ...     8.05  None        S\n",
              "\n",
              "[5 rows x 12 columns]"
            ]
          },
          "metadata": {
            "tags": []
          },
          "execution_count": 287
        }
      ]
    },
    {
      "cell_type": "code",
      "metadata": {
        "colab": {
          "base_uri": "https://localhost:8080/"
        },
        "id": "uxkGq1cfERks",
        "outputId": "e1dbdc18-d8b4-4824-9d05-da6a93e5bf09"
      },
      "source": [
        "df.isnull().sum()"
      ],
      "execution_count": 288,
      "outputs": [
        {
          "output_type": "execute_result",
          "data": {
            "text/plain": [
              "PassengerId      0\n",
              "Survived         0\n",
              "Pclass           0\n",
              "Name             0\n",
              "Sex              0\n",
              "Age            177\n",
              "SibSp            0\n",
              "Parch            0\n",
              "Ticket           0\n",
              "Fare             0\n",
              "Cabin          687\n",
              "Embarked         2\n",
              "dtype: int64"
            ]
          },
          "metadata": {
            "tags": []
          },
          "execution_count": 288
        }
      ]
    },
    {
      "cell_type": "code",
      "metadata": {
        "colab": {
          "base_uri": "https://localhost:8080/"
        },
        "id": "RfQLIQhjEgoH",
        "outputId": "f9b8ff6f-13f8-4413-d121-f68080dcc05b"
      },
      "source": [
        "df_new.printSchema()"
      ],
      "execution_count": 289,
      "outputs": [
        {
          "output_type": "stream",
          "text": [
            "root\n",
            " |-- PassengerId: string (nullable = true)\n",
            " |-- Survived: string (nullable = true)\n",
            " |-- Pclass: string (nullable = true)\n",
            " |-- Name: string (nullable = true)\n",
            " |-- Sex: string (nullable = true)\n",
            " |-- Age: string (nullable = true)\n",
            " |-- SibSp: string (nullable = true)\n",
            " |-- Parch: string (nullable = true)\n",
            " |-- Ticket: string (nullable = true)\n",
            " |-- Fare: string (nullable = true)\n",
            " |-- Cabin: string (nullable = true)\n",
            " |-- Embarked: string (nullable = true)\n",
            "\n"
          ],
          "name": "stdout"
        }
      ]
    },
    {
      "cell_type": "code",
      "metadata": {
        "colab": {
          "base_uri": "https://localhost:8080/"
        },
        "id": "fbcQnLr3Gb23",
        "outputId": "563387dd-5599-4457-dfa5-aeac305a84ad"
      },
      "source": [
        "df_new.head()"
      ],
      "execution_count": 290,
      "outputs": [
        {
          "output_type": "execute_result",
          "data": {
            "text/plain": [
              "Row(PassengerId='1', Survived='0', Pclass='3', Name='Braund, Mr. Owen Harris', Sex='male', Age='22', SibSp='1', Parch='0', Ticket='A/5 21171', Fare='7.25', Cabin=None, Embarked='S')"
            ]
          },
          "metadata": {
            "tags": []
          },
          "execution_count": 290
        }
      ]
    },
    {
      "cell_type": "code",
      "metadata": {
        "colab": {
          "base_uri": "https://localhost:8080/"
        },
        "id": "vDMGytNZHeix",
        "outputId": "ef611281-8fd1-496a-d820-f2417433984f"
      },
      "source": [
        "df_new.select( ['PassengerId' , 'Survived' , 'Embarked'] ).show(5)"
      ],
      "execution_count": 291,
      "outputs": [
        {
          "output_type": "stream",
          "text": [
            "+-----------+--------+--------+\n",
            "|PassengerId|Survived|Embarked|\n",
            "+-----------+--------+--------+\n",
            "|          1|       0|       S|\n",
            "|          2|       1|       C|\n",
            "|          3|       1|       S|\n",
            "|          4|       1|       S|\n",
            "|          5|       0|       S|\n",
            "+-----------+--------+--------+\n",
            "only showing top 5 rows\n",
            "\n"
          ],
          "name": "stdout"
        }
      ]
    },
    {
      "cell_type": "code",
      "metadata": {
        "colab": {
          "base_uri": "https://localhost:8080/"
        },
        "id": "hkEcsHkGHzmW",
        "outputId": "f1e63869-1084-44c9-9ced-664ab321339c"
      },
      "source": [
        "df_new.select(['Survived']).show(5)"
      ],
      "execution_count": 292,
      "outputs": [
        {
          "output_type": "stream",
          "text": [
            "+--------+\n",
            "|Survived|\n",
            "+--------+\n",
            "|       0|\n",
            "|       1|\n",
            "|       1|\n",
            "|       1|\n",
            "|       0|\n",
            "+--------+\n",
            "only showing top 5 rows\n",
            "\n"
          ],
          "name": "stdout"
        }
      ]
    },
    {
      "cell_type": "code",
      "metadata": {
        "colab": {
          "base_uri": "https://localhost:8080/"
        },
        "id": "n3Vh60LZIIk9",
        "outputId": "3649be81-b47f-4c2b-feb1-5e964d5ed722"
      },
      "source": [
        "df_new.dtypes"
      ],
      "execution_count": 293,
      "outputs": [
        {
          "output_type": "execute_result",
          "data": {
            "text/plain": [
              "[('PassengerId', 'string'),\n",
              " ('Survived', 'string'),\n",
              " ('Pclass', 'string'),\n",
              " ('Name', 'string'),\n",
              " ('Sex', 'string'),\n",
              " ('Age', 'string'),\n",
              " ('SibSp', 'string'),\n",
              " ('Parch', 'string'),\n",
              " ('Ticket', 'string'),\n",
              " ('Fare', 'string'),\n",
              " ('Cabin', 'string'),\n",
              " ('Embarked', 'string')]"
            ]
          },
          "metadata": {
            "tags": []
          },
          "execution_count": 293
        }
      ]
    },
    {
      "cell_type": "code",
      "metadata": {
        "colab": {
          "base_uri": "https://localhost:8080/"
        },
        "id": "Uyz3e4n5f8ru",
        "outputId": "6b2c75af-09e0-4335-8db7-3714526bf53d"
      },
      "source": [
        "df_new.show(5)"
      ],
      "execution_count": 294,
      "outputs": [
        {
          "output_type": "stream",
          "text": [
            "+-----------+--------+------+--------------------+------+---+-----+-----+----------------+-------+-----+--------+\n",
            "|PassengerId|Survived|Pclass|                Name|   Sex|Age|SibSp|Parch|          Ticket|   Fare|Cabin|Embarked|\n",
            "+-----------+--------+------+--------------------+------+---+-----+-----+----------------+-------+-----+--------+\n",
            "|          1|       0|     3|Braund, Mr. Owen ...|  male| 22|    1|    0|       A/5 21171|   7.25| null|       S|\n",
            "|          2|       1|     1|Cumings, Mrs. Joh...|female| 38|    1|    0|        PC 17599|71.2833|  C85|       C|\n",
            "|          3|       1|     3|Heikkinen, Miss. ...|female| 26|    0|    0|STON/O2. 3101282|  7.925| null|       S|\n",
            "|          4|       1|     1|Futrelle, Mrs. Ja...|female| 35|    1|    0|          113803|   53.1| C123|       S|\n",
            "|          5|       0|     3|Allen, Mr. Willia...|  male| 35|    0|    0|          373450|   8.05| null|       S|\n",
            "+-----------+--------+------+--------------------+------+---+-----+-----+----------------+-------+-----+--------+\n",
            "only showing top 5 rows\n",
            "\n"
          ],
          "name": "stdout"
        }
      ]
    },
    {
      "cell_type": "code",
      "metadata": {
        "colab": {
          "base_uri": "https://localhost:8080/"
        },
        "id": "35R1gKukIRn-",
        "outputId": "6b44dedc-4b3a-4e85-deeb-f0ac3cdfdbd5"
      },
      "source": [
        "df_new.describe().show()"
      ],
      "execution_count": 295,
      "outputs": [
        {
          "output_type": "stream",
          "text": [
            "+-------+-----------------+-------------------+------------------+--------------------+------+------------------+------------------+-------------------+------------------+-----------------+-----+--------+\n",
            "|summary|      PassengerId|           Survived|            Pclass|                Name|   Sex|               Age|             SibSp|              Parch|            Ticket|             Fare|Cabin|Embarked|\n",
            "+-------+-----------------+-------------------+------------------+--------------------+------+------------------+------------------+-------------------+------------------+-----------------+-----+--------+\n",
            "|  count|              891|                891|               891|                 891|   891|               714|               891|                891|               891|              891|  204|     889|\n",
            "|   mean|            446.0| 0.3838383838383838| 2.308641975308642|                null|  null| 29.69911764705882|0.5230078563411896|0.38159371492704824|260318.54916792738| 32.2042079685746| null|    null|\n",
            "| stddev|257.3538420152301|0.48659245426485753|0.8360712409770491|                null|  null|14.526497332334035|1.1027434322934315| 0.8060572211299488|471609.26868834975|49.69342859718089| null|    null|\n",
            "|    min|                1|                  0|                 1|\"Andersson, Mr. A...|female|              0.42|                 0|                  0|            110152|                0|  A10|       C|\n",
            "|    max|               99|                  1|                 3|van Melkebeke, Mr...|  male|                 9|                 8|                  6|         WE/P 5735|             93.5|    T|       S|\n",
            "+-------+-----------------+-------------------+------------------+--------------------+------+------------------+------------------+-------------------+------------------+-----------------+-----+--------+\n",
            "\n"
          ],
          "name": "stdout"
        }
      ]
    },
    {
      "cell_type": "code",
      "metadata": {
        "id": "3iKP073wIYgj"
      },
      "source": [
        "df_new = df_new.withColumn('Age_plus_Fare' , df_new['Age'] + df_new['Fare'])"
      ],
      "execution_count": 296,
      "outputs": []
    },
    {
      "cell_type": "code",
      "metadata": {
        "colab": {
          "base_uri": "https://localhost:8080/"
        },
        "id": "QPata9h8L4RA",
        "outputId": "9c16ec95-360e-41d6-8b11-418ce28eaf4b"
      },
      "source": [
        "df_new.show(5)"
      ],
      "execution_count": 297,
      "outputs": [
        {
          "output_type": "stream",
          "text": [
            "+-----------+--------+------+--------------------+------+---+-----+-----+----------------+-------+-----+--------+-------------+\n",
            "|PassengerId|Survived|Pclass|                Name|   Sex|Age|SibSp|Parch|          Ticket|   Fare|Cabin|Embarked|Age_plus_Fare|\n",
            "+-----------+--------+------+--------------------+------+---+-----+-----+----------------+-------+-----+--------+-------------+\n",
            "|          1|       0|     3|Braund, Mr. Owen ...|  male| 22|    1|    0|       A/5 21171|   7.25| null|       S|        29.25|\n",
            "|          2|       1|     1|Cumings, Mrs. Joh...|female| 38|    1|    0|        PC 17599|71.2833|  C85|       C|     109.2833|\n",
            "|          3|       1|     3|Heikkinen, Miss. ...|female| 26|    0|    0|STON/O2. 3101282|  7.925| null|       S|       33.925|\n",
            "|          4|       1|     1|Futrelle, Mrs. Ja...|female| 35|    1|    0|          113803|   53.1| C123|       S|         88.1|\n",
            "|          5|       0|     3|Allen, Mr. Willia...|  male| 35|    0|    0|          373450|   8.05| null|       S|        43.05|\n",
            "+-----------+--------+------+--------------------+------+---+-----+-----+----------------+-------+-----+--------+-------------+\n",
            "only showing top 5 rows\n",
            "\n"
          ],
          "name": "stdout"
        }
      ]
    },
    {
      "cell_type": "code",
      "metadata": {
        "id": "_b_y_k0vL8lW"
      },
      "source": [
        "#Drop column\n",
        "df_new = df_new.drop('Age_plus_Fare')"
      ],
      "execution_count": 298,
      "outputs": []
    },
    {
      "cell_type": "code",
      "metadata": {
        "colab": {
          "base_uri": "https://localhost:8080/"
        },
        "id": "nv71M4yuMajH",
        "outputId": "81275304-063e-4745-85cf-0dc67d30cd2a"
      },
      "source": [
        "df_new.show(5)"
      ],
      "execution_count": 299,
      "outputs": [
        {
          "output_type": "stream",
          "text": [
            "+-----------+--------+------+--------------------+------+---+-----+-----+----------------+-------+-----+--------+\n",
            "|PassengerId|Survived|Pclass|                Name|   Sex|Age|SibSp|Parch|          Ticket|   Fare|Cabin|Embarked|\n",
            "+-----------+--------+------+--------------------+------+---+-----+-----+----------------+-------+-----+--------+\n",
            "|          1|       0|     3|Braund, Mr. Owen ...|  male| 22|    1|    0|       A/5 21171|   7.25| null|       S|\n",
            "|          2|       1|     1|Cumings, Mrs. Joh...|female| 38|    1|    0|        PC 17599|71.2833|  C85|       C|\n",
            "|          3|       1|     3|Heikkinen, Miss. ...|female| 26|    0|    0|STON/O2. 3101282|  7.925| null|       S|\n",
            "|          4|       1|     1|Futrelle, Mrs. Ja...|female| 35|    1|    0|          113803|   53.1| C123|       S|\n",
            "|          5|       0|     3|Allen, Mr. Willia...|  male| 35|    0|    0|          373450|   8.05| null|       S|\n",
            "+-----------+--------+------+--------------------+------+---+-----+-----+----------------+-------+-----+--------+\n",
            "only showing top 5 rows\n",
            "\n"
          ],
          "name": "stdout"
        }
      ]
    },
    {
      "cell_type": "code",
      "metadata": {
        "colab": {
          "base_uri": "https://localhost:8080/"
        },
        "id": "MLzT5RlPMdqh",
        "outputId": "63da9a25-ac91-4499-d36b-c780c82c885f"
      },
      "source": [
        "df_new.withColumnRenamed('PassengerId' , 'ID').show(5)"
      ],
      "execution_count": 300,
      "outputs": [
        {
          "output_type": "stream",
          "text": [
            "+---+--------+------+--------------------+------+---+-----+-----+----------------+-------+-----+--------+\n",
            "| ID|Survived|Pclass|                Name|   Sex|Age|SibSp|Parch|          Ticket|   Fare|Cabin|Embarked|\n",
            "+---+--------+------+--------------------+------+---+-----+-----+----------------+-------+-----+--------+\n",
            "|  1|       0|     3|Braund, Mr. Owen ...|  male| 22|    1|    0|       A/5 21171|   7.25| null|       S|\n",
            "|  2|       1|     1|Cumings, Mrs. Joh...|female| 38|    1|    0|        PC 17599|71.2833|  C85|       C|\n",
            "|  3|       1|     3|Heikkinen, Miss. ...|female| 26|    0|    0|STON/O2. 3101282|  7.925| null|       S|\n",
            "|  4|       1|     1|Futrelle, Mrs. Ja...|female| 35|    1|    0|          113803|   53.1| C123|       S|\n",
            "|  5|       0|     3|Allen, Mr. Willia...|  male| 35|    0|    0|          373450|   8.05| null|       S|\n",
            "+---+--------+------+--------------------+------+---+-----+-----+----------------+-------+-----+--------+\n",
            "only showing top 5 rows\n",
            "\n"
          ],
          "name": "stdout"
        }
      ]
    },
    {
      "cell_type": "code",
      "metadata": {
        "colab": {
          "base_uri": "https://localhost:8080/"
        },
        "id": "nctZDc8pNQNC",
        "outputId": "0c5d5fb3-dbd1-416e-c407-8e3495ee5c6e"
      },
      "source": [
        "df_new.na.drop().show(5)"
      ],
      "execution_count": 301,
      "outputs": [
        {
          "output_type": "stream",
          "text": [
            "+-----------+--------+------+--------------------+------+---+-----+-----+--------+-------+-----+--------+\n",
            "|PassengerId|Survived|Pclass|                Name|   Sex|Age|SibSp|Parch|  Ticket|   Fare|Cabin|Embarked|\n",
            "+-----------+--------+------+--------------------+------+---+-----+-----+--------+-------+-----+--------+\n",
            "|          2|       1|     1|Cumings, Mrs. Joh...|female| 38|    1|    0|PC 17599|71.2833|  C85|       C|\n",
            "|          4|       1|     1|Futrelle, Mrs. Ja...|female| 35|    1|    0|  113803|   53.1| C123|       S|\n",
            "|          7|       0|     1|McCarthy, Mr. Tim...|  male| 54|    0|    0|   17463|51.8625|  E46|       S|\n",
            "|         11|       1|     3|Sandstrom, Miss. ...|female|  4|    1|    1| PP 9549|   16.7|   G6|       S|\n",
            "|         12|       1|     1|Bonnell, Miss. El...|female| 58|    0|    0|  113783|  26.55| C103|       S|\n",
            "+-----------+--------+------+--------------------+------+---+-----+-----+--------+-------+-----+--------+\n",
            "only showing top 5 rows\n",
            "\n"
          ],
          "name": "stdout"
        }
      ]
    },
    {
      "cell_type": "code",
      "metadata": {
        "colab": {
          "base_uri": "https://localhost:8080/"
        },
        "id": "7pZmb9sTQSHL",
        "outputId": "a5120e2d-d668-4e05-f75a-b32054bc7ea5"
      },
      "source": [
        "df_new.na.drop(how = 'any').show(5)"
      ],
      "execution_count": 344,
      "outputs": [
        {
          "output_type": "stream",
          "text": [
            "+--------+---+----+----------+------------+------------+---------------+-------------+-------------+---------------+-------------+-------------+\n",
            "|Survived|Age|Fare|Sex_encode|SibSp_encode|Parch_encode|Embarked_encode|   Sex_onehot| Parch_onehot|Embarked_onehot| SibSp_onehot|Pclass_onehot|\n",
            "+--------+---+----+----------+------------+------------+---------------+-------------+-------------+---------------+-------------+-------------+\n",
            "|       0| 22|   7|       0.0|         1.0|         0.0|            0.0|(1,[0],[1.0])|(6,[0],[1.0])|  (2,[0],[1.0])|(6,[1],[1.0])|    (3,[],[])|\n",
            "|       1| 38|  71|       1.0|         1.0|         0.0|            1.0|    (1,[],[])|(6,[0],[1.0])|  (2,[1],[1.0])|(6,[1],[1.0])|(3,[1],[1.0])|\n",
            "|       1| 26|   7|       1.0|         0.0|         0.0|            0.0|    (1,[],[])|(6,[0],[1.0])|  (2,[0],[1.0])|(6,[0],[1.0])|    (3,[],[])|\n",
            "|       1| 35|  53|       1.0|         1.0|         0.0|            0.0|    (1,[],[])|(6,[0],[1.0])|  (2,[0],[1.0])|(6,[1],[1.0])|(3,[1],[1.0])|\n",
            "|       0| 35|   8|       0.0|         0.0|         0.0|            0.0|(1,[0],[1.0])|(6,[0],[1.0])|  (2,[0],[1.0])|(6,[0],[1.0])|    (3,[],[])|\n",
            "+--------+---+----+----------+------------+------------+---------------+-------------+-------------+---------------+-------------+-------------+\n",
            "only showing top 5 rows\n",
            "\n"
          ],
          "name": "stdout"
        }
      ]
    },
    {
      "cell_type": "code",
      "metadata": {
        "colab": {
          "base_uri": "https://localhost:8080/"
        },
        "id": "oVKx1ce6ZHpw",
        "outputId": "80054849-3ec2-4960-cbc3-0ee6cd624dad"
      },
      "source": [
        "df_new.select( mean('Age').alias('avg_age') ).show()"
      ],
      "execution_count": 303,
      "outputs": [
        {
          "output_type": "stream",
          "text": [
            "+-----------------+\n",
            "|          avg_age|\n",
            "+-----------------+\n",
            "|29.69911764705882|\n",
            "+-----------------+\n",
            "\n"
          ],
          "name": "stdout"
        }
      ]
    },
    {
      "cell_type": "code",
      "metadata": {
        "id": "0F7a7CTWQowp"
      },
      "source": [
        "df_new = df_new.na.fill(  'Unknown' ,  ['Cabin']  )"
      ],
      "execution_count": 304,
      "outputs": []
    },
    {
      "cell_type": "code",
      "metadata": {
        "id": "4SkVpUrvbNNQ"
      },
      "source": [
        "df_new = df_new.withColumn(\"Age\" , col(\"Age\").cast(\"int\") )\n",
        "df_new = df_new.withColumn(\"Fare\" , col(\"Fare\").cast(\"int\"))\n",
        "df_new = df_new.withColumn(\"Pclass\" , col(\"Pclass\").cast(\"int\"))\n",
        "df_new = df_new.withColumn(\"Survived\" , col(\"Survived\").cast(\"int\"))"
      ],
      "execution_count": 305,
      "outputs": []
    },
    {
      "cell_type": "code",
      "metadata": {
        "colab": {
          "base_uri": "https://localhost:8080/"
        },
        "id": "mm9Eqafmbhql",
        "outputId": "e59b05b2-79c1-4206-bc8c-2680be023859"
      },
      "source": [
        "df_new.dtypes"
      ],
      "execution_count": 306,
      "outputs": [
        {
          "output_type": "execute_result",
          "data": {
            "text/plain": [
              "[('PassengerId', 'string'),\n",
              " ('Survived', 'int'),\n",
              " ('Pclass', 'int'),\n",
              " ('Name', 'string'),\n",
              " ('Sex', 'string'),\n",
              " ('Age', 'int'),\n",
              " ('SibSp', 'string'),\n",
              " ('Parch', 'string'),\n",
              " ('Ticket', 'string'),\n",
              " ('Fare', 'int'),\n",
              " ('Cabin', 'string'),\n",
              " ('Embarked', 'string')]"
            ]
          },
          "metadata": {
            "tags": []
          },
          "execution_count": 306
        }
      ]
    },
    {
      "cell_type": "code",
      "metadata": {
        "colab": {
          "base_uri": "https://localhost:8080/"
        },
        "id": "rlsPa9NjXkG8",
        "outputId": "fbca4d9a-24c2-4053-aa71-0c76d1489e50"
      },
      "source": [
        "df_new.select([ count(when(col(c).isNull(), c)).alias(c) for c in df_new.columns]).show()"
      ],
      "execution_count": 309,
      "outputs": [
        {
          "output_type": "stream",
          "text": [
            "+-----------+--------+------+----+---+---+-----+-----+------+----+-----+--------+\n",
            "|PassengerId|Survived|Pclass|Name|Sex|Age|SibSp|Parch|Ticket|Fare|Cabin|Embarked|\n",
            "+-----------+--------+------+----+---+---+-----+-----+------+----+-----+--------+\n",
            "|          0|       0|     0|   0|  0|177|    0|    0|     0|   0|    0|       2|\n",
            "+-----------+--------+------+----+---+---+-----+-----+------+----+-----+--------+\n",
            "\n"
          ],
          "name": "stdout"
        }
      ]
    },
    {
      "cell_type": "code",
      "metadata": {
        "id": "wViMY3q9aklL"
      },
      "source": [
        "from pyspark.ml.feature import Imputer\n",
        "imputer_numeric = Imputer(\n",
        "    inputCols = ['Age'] , \n",
        "    outputCols = ['{}'.format(c) for c in ['Age']]\n",
        ").setStrategy(\"mean\")"
      ],
      "execution_count": 310,
      "outputs": []
    },
    {
      "cell_type": "code",
      "metadata": {
        "id": "znFRTDOjePJB"
      },
      "source": [
        "df_new = imputer_numeric.fit(df_new).transform(df_new)"
      ],
      "execution_count": 313,
      "outputs": []
    },
    {
      "cell_type": "code",
      "metadata": {
        "colab": {
          "base_uri": "https://localhost:8080/"
        },
        "id": "UBMorzylehL5",
        "outputId": "0436fe75-0e37-434f-bf6e-efa681b637a1"
      },
      "source": [
        "df_new.show(5)"
      ],
      "execution_count": 314,
      "outputs": [
        {
          "output_type": "stream",
          "text": [
            "+-----------+--------+------+--------------------+------+---+-----+-----+----------------+----+-------+--------+\n",
            "|PassengerId|Survived|Pclass|                Name|   Sex|Age|SibSp|Parch|          Ticket|Fare|  Cabin|Embarked|\n",
            "+-----------+--------+------+--------------------+------+---+-----+-----+----------------+----+-------+--------+\n",
            "|          1|       0|     3|Braund, Mr. Owen ...|  male| 22|    1|    0|       A/5 21171|   7|Unknown|       S|\n",
            "|          2|       1|     1|Cumings, Mrs. Joh...|female| 38|    1|    0|        PC 17599|  71|    C85|       C|\n",
            "|          3|       1|     3|Heikkinen, Miss. ...|female| 26|    0|    0|STON/O2. 3101282|   7|Unknown|       S|\n",
            "|          4|       1|     1|Futrelle, Mrs. Ja...|female| 35|    1|    0|          113803|  53|   C123|       S|\n",
            "|          5|       0|     3|Allen, Mr. Willia...|  male| 35|    0|    0|          373450|   8|Unknown|       S|\n",
            "+-----------+--------+------+--------------------+------+---+-----+-----+----------------+----+-------+--------+\n",
            "only showing top 5 rows\n",
            "\n"
          ],
          "name": "stdout"
        }
      ]
    },
    {
      "cell_type": "code",
      "metadata": {
        "id": "i3MRBl2cY97i"
      },
      "source": [
        "df_new = df_new.na.drop()"
      ],
      "execution_count": 317,
      "outputs": []
    },
    {
      "cell_type": "code",
      "metadata": {
        "colab": {
          "base_uri": "https://localhost:8080/"
        },
        "id": "TF-O-KsjZLnv",
        "outputId": "471a377e-0e31-407a-8783-0bbc3eff591f"
      },
      "source": [
        "df_new.select([ count(when(col(c).isNull(), c)).alias(c) for c in df_new.columns]).show()"
      ],
      "execution_count": 318,
      "outputs": [
        {
          "output_type": "stream",
          "text": [
            "+-----------+--------+------+----+---+---+-----+-----+------+----+-----+--------+\n",
            "|PassengerId|Survived|Pclass|Name|Sex|Age|SibSp|Parch|Ticket|Fare|Cabin|Embarked|\n",
            "+-----------+--------+------+----+---+---+-----+-----+------+----+-----+--------+\n",
            "|          0|       0|     0|   0|  0|  0|    0|    0|     0|   0|    0|       0|\n",
            "+-----------+--------+------+----+---+---+-----+-----+------+----+-----+--------+\n",
            "\n"
          ],
          "name": "stdout"
        }
      ]
    },
    {
      "cell_type": "code",
      "metadata": {
        "id": "T63grApOLPkK"
      },
      "source": [
        "df_encode = StringIndexer(inputCols=['Sex' , 'SibSp' , 'Parch' , 'Embarked'] , outputCols= ['Sex_encode' , 'SibSp_encode' , \n",
        "                                                                                               'Parch_encode' , 'Embarked_encode'] )\n",
        "df_new = df_encode.fit(df_new).transform(df_new)"
      ],
      "execution_count": 319,
      "outputs": []
    },
    {
      "cell_type": "code",
      "metadata": {
        "colab": {
          "base_uri": "https://localhost:8080/"
        },
        "id": "E7gbt8B8MTGJ",
        "outputId": "9efe19b9-3d7c-4a1e-fe06-7adb36ceadca"
      },
      "source": [
        "df_new.show(5)"
      ],
      "execution_count": 320,
      "outputs": [
        {
          "output_type": "stream",
          "text": [
            "+-----------+--------+------+--------------------+------+---+-----+-----+----------------+----+-------+--------+----------+------------+------------+---------------+\n",
            "|PassengerId|Survived|Pclass|                Name|   Sex|Age|SibSp|Parch|          Ticket|Fare|  Cabin|Embarked|Sex_encode|SibSp_encode|Parch_encode|Embarked_encode|\n",
            "+-----------+--------+------+--------------------+------+---+-----+-----+----------------+----+-------+--------+----------+------------+------------+---------------+\n",
            "|          1|       0|     3|Braund, Mr. Owen ...|  male| 22|    1|    0|       A/5 21171|   7|Unknown|       S|       0.0|         1.0|         0.0|            0.0|\n",
            "|          2|       1|     1|Cumings, Mrs. Joh...|female| 38|    1|    0|        PC 17599|  71|    C85|       C|       1.0|         1.0|         0.0|            1.0|\n",
            "|          3|       1|     3|Heikkinen, Miss. ...|female| 26|    0|    0|STON/O2. 3101282|   7|Unknown|       S|       1.0|         0.0|         0.0|            0.0|\n",
            "|          4|       1|     1|Futrelle, Mrs. Ja...|female| 35|    1|    0|          113803|  53|   C123|       S|       1.0|         1.0|         0.0|            0.0|\n",
            "|          5|       0|     3|Allen, Mr. Willia...|  male| 35|    0|    0|          373450|   8|Unknown|       S|       0.0|         0.0|         0.0|            0.0|\n",
            "+-----------+--------+------+--------------------+------+---+-----+-----+----------------+----+-------+--------+----------+------------+------------+---------------+\n",
            "only showing top 5 rows\n",
            "\n"
          ],
          "name": "stdout"
        }
      ]
    },
    {
      "cell_type": "code",
      "metadata": {
        "id": "hoeKHHLVNUvw"
      },
      "source": [
        "df_onehot = OneHotEncoder(inputCols = ['Sex_encode' , 'SibSp_encode' , 'Parch_encode' , 'Embarked_encode' , 'Pclass'] , \n",
        "                          outputCols = ['Sex_onehot' , 'SibSp_onehot' , 'Parch_onehot' , 'Embarked_onehot' , 'Pclass_onehot'])\n",
        "df_new = df_onehot.fit(df_new).transform(df_new)"
      ],
      "execution_count": 321,
      "outputs": []
    },
    {
      "cell_type": "code",
      "metadata": {
        "colab": {
          "base_uri": "https://localhost:8080/"
        },
        "id": "wPWJ6TxYOAF4",
        "outputId": "8f1b2ee1-a1d9-416a-f39f-571e14498777"
      },
      "source": [
        "df_new.show(5)"
      ],
      "execution_count": 322,
      "outputs": [
        {
          "output_type": "stream",
          "text": [
            "+-----------+--------+------+--------------------+------+---+-----+-----+----------------+----+-------+--------+----------+------------+------------+---------------+-------------+-------------+---------------+-------------+-------------+\n",
            "|PassengerId|Survived|Pclass|                Name|   Sex|Age|SibSp|Parch|          Ticket|Fare|  Cabin|Embarked|Sex_encode|SibSp_encode|Parch_encode|Embarked_encode|   Sex_onehot| Parch_onehot|Embarked_onehot| SibSp_onehot|Pclass_onehot|\n",
            "+-----------+--------+------+--------------------+------+---+-----+-----+----------------+----+-------+--------+----------+------------+------------+---------------+-------------+-------------+---------------+-------------+-------------+\n",
            "|          1|       0|     3|Braund, Mr. Owen ...|  male| 22|    1|    0|       A/5 21171|   7|Unknown|       S|       0.0|         1.0|         0.0|            0.0|(1,[0],[1.0])|(6,[0],[1.0])|  (2,[0],[1.0])|(6,[1],[1.0])|    (3,[],[])|\n",
            "|          2|       1|     1|Cumings, Mrs. Joh...|female| 38|    1|    0|        PC 17599|  71|    C85|       C|       1.0|         1.0|         0.0|            1.0|    (1,[],[])|(6,[0],[1.0])|  (2,[1],[1.0])|(6,[1],[1.0])|(3,[1],[1.0])|\n",
            "|          3|       1|     3|Heikkinen, Miss. ...|female| 26|    0|    0|STON/O2. 3101282|   7|Unknown|       S|       1.0|         0.0|         0.0|            0.0|    (1,[],[])|(6,[0],[1.0])|  (2,[0],[1.0])|(6,[0],[1.0])|    (3,[],[])|\n",
            "|          4|       1|     1|Futrelle, Mrs. Ja...|female| 35|    1|    0|          113803|  53|   C123|       S|       1.0|         1.0|         0.0|            0.0|    (1,[],[])|(6,[0],[1.0])|  (2,[0],[1.0])|(6,[1],[1.0])|(3,[1],[1.0])|\n",
            "|          5|       0|     3|Allen, Mr. Willia...|  male| 35|    0|    0|          373450|   8|Unknown|       S|       0.0|         0.0|         0.0|            0.0|(1,[0],[1.0])|(6,[0],[1.0])|  (2,[0],[1.0])|(6,[0],[1.0])|    (3,[],[])|\n",
            "+-----------+--------+------+--------------------+------+---+-----+-----+----------------+----+-------+--------+----------+------------+------------+---------------+-------------+-------------+---------------+-------------+-------------+\n",
            "only showing top 5 rows\n",
            "\n"
          ],
          "name": "stdout"
        }
      ]
    },
    {
      "cell_type": "code",
      "metadata": {
        "id": "GI-NH2yPOGTY"
      },
      "source": [
        "drop_col = [\"PassengerId\" , \"Pclass\" , \"Sex\" , \"SibSp\" , \"Parch\" , \"Ticket\" , \"Cabin\" , \"Embarked\" , \"Name\"]\n",
        "df_new = df_new.drop(*drop_col)"
      ],
      "execution_count": 323,
      "outputs": []
    },
    {
      "cell_type": "code",
      "metadata": {
        "colab": {
          "base_uri": "https://localhost:8080/"
        },
        "id": "1ivMOPsBSVQs",
        "outputId": "a7d5f5b6-570f-440e-d9e6-32895e62cf70"
      },
      "source": [
        "df_new.printSchema()"
      ],
      "execution_count": 324,
      "outputs": [
        {
          "output_type": "stream",
          "text": [
            "root\n",
            " |-- Survived: integer (nullable = true)\n",
            " |-- Age: integer (nullable = true)\n",
            " |-- Fare: integer (nullable = true)\n",
            " |-- Sex_encode: double (nullable = false)\n",
            " |-- SibSp_encode: double (nullable = false)\n",
            " |-- Parch_encode: double (nullable = false)\n",
            " |-- Embarked_encode: double (nullable = false)\n",
            " |-- Sex_onehot: vector (nullable = true)\n",
            " |-- Parch_onehot: vector (nullable = true)\n",
            " |-- Embarked_onehot: vector (nullable = true)\n",
            " |-- SibSp_onehot: vector (nullable = true)\n",
            " |-- Pclass_onehot: vector (nullable = true)\n",
            "\n"
          ],
          "name": "stdout"
        }
      ]
    },
    {
      "cell_type": "code",
      "metadata": {
        "colab": {
          "base_uri": "https://localhost:8080/"
        },
        "id": "4iyLqISgSk7j",
        "outputId": "1c67d1a4-df9f-4c16-a65f-e1d64d9b9674"
      },
      "source": [
        "df_new.columns"
      ],
      "execution_count": 325,
      "outputs": [
        {
          "output_type": "execute_result",
          "data": {
            "text/plain": [
              "['Survived',\n",
              " 'Age',\n",
              " 'Fare',\n",
              " 'Sex_encode',\n",
              " 'SibSp_encode',\n",
              " 'Parch_encode',\n",
              " 'Embarked_encode',\n",
              " 'Sex_onehot',\n",
              " 'Parch_onehot',\n",
              " 'Embarked_onehot',\n",
              " 'SibSp_onehot',\n",
              " 'Pclass_onehot']"
            ]
          },
          "metadata": {
            "tags": []
          },
          "execution_count": 325
        }
      ]
    },
    {
      "cell_type": "code",
      "metadata": {
        "id": "GnzEMnp7SNKG"
      },
      "source": [
        "data_transformer = VectorAssembler(inputCols= ['Age','Fare','Sex_encode','SibSp_encode','Parch_encode','Embarked_encode','Sex_onehot',\n",
        " 'Parch_onehot','Embarked_onehot','SibSp_onehot','Pclass_onehot'] , outputCol = \"Independent_features\")"
      ],
      "execution_count": 326,
      "outputs": []
    },
    {
      "cell_type": "code",
      "metadata": {
        "id": "P3ZMQBFvTJe0"
      },
      "source": [
        "data = data_transformer.setHandleInvalid(\"skip\").transform(df_new)"
      ],
      "execution_count": 327,
      "outputs": []
    },
    {
      "cell_type": "code",
      "metadata": {
        "id": "OoJb9t_ETJox"
      },
      "source": [
        "final_data = data.select(\"Independent_features\" , \"Survived\")"
      ],
      "execution_count": 328,
      "outputs": []
    },
    {
      "cell_type": "code",
      "metadata": {
        "id": "s0LCedKJQ73K"
      },
      "source": [
        "train , test = final_data.randomSplit([0.8 , 0.2])"
      ],
      "execution_count": 329,
      "outputs": []
    },
    {
      "cell_type": "code",
      "metadata": {
        "colab": {
          "base_uri": "https://localhost:8080/"
        },
        "id": "VGsJ7F2ZUzIW",
        "outputId": "392accc5-d046-4d6e-abb7-ee4743a41f5a"
      },
      "source": [
        "train.show(5)"
      ],
      "execution_count": 331,
      "outputs": [
        {
          "output_type": "stream",
          "text": [
            "+--------------------+--------+\n",
            "|Independent_features|Survived|\n",
            "+--------------------+--------+\n",
            "|(24,[0,1,2,3,4,5,...|       0|\n",
            "|(24,[0,1,2,3,4,5,...|       1|\n",
            "|(24,[0,1,2,3,4,5,...|       1|\n",
            "|(24,[0,1,2,3,4,5,...|       1|\n",
            "|(24,[0,1,2,3,4,5,...|       0|\n",
            "+--------------------+--------+\n",
            "only showing top 5 rows\n",
            "\n"
          ],
          "name": "stdout"
        }
      ]
    },
    {
      "cell_type": "code",
      "metadata": {
        "id": "tgl2keeeQ9vX"
      },
      "source": [
        "lr = LogisticRegression(featuresCol= \"Independent_features\" , labelCol= \"Survived\")\n",
        "lr = lr.fit(train)"
      ],
      "execution_count": 332,
      "outputs": []
    },
    {
      "cell_type": "code",
      "metadata": {
        "id": "WfrEEe6NUTPY"
      },
      "source": [
        "pred_results = lr.evaluate(test)"
      ],
      "execution_count": 334,
      "outputs": []
    },
    {
      "cell_type": "code",
      "metadata": {
        "colab": {
          "base_uri": "https://localhost:8080/"
        },
        "id": "FYKaQ7MBZe_O",
        "outputId": "b63a6c27-92f8-4413-d7b7-82a9cd9b1ddb"
      },
      "source": [
        "pred_results.predictions.show()"
      ],
      "execution_count": 335,
      "outputs": [
        {
          "output_type": "stream",
          "text": [
            "+--------------------+--------+--------------------+--------------------+----------+\n",
            "|Independent_features|Survived|       rawPrediction|         probability|prediction|\n",
            "+--------------------+--------+--------------------+--------------------+----------+\n",
            "|(24,[0,1,2,3,4,5,...|       1|[-1.4054563712778...|[0.19695169514246...|       1.0|\n",
            "|(24,[0,1,2,3,4,5,...|       1|[-3.2650006981545...|[0.03679158366459...|       1.0|\n",
            "|(24,[0,1,2,3,4,5,...|       1|[-3.7231958017385...|[0.02358686499711...|       1.0|\n",
            "|(24,[0,1,2,3,4,8,...|       1|[-2.1432004133222...|[0.10496833039343...|       1.0|\n",
            "|(24,[0,1,2,3,4,8,...|       1|[-2.0296695248175...|[0.11612283718495...|       1.0|\n",
            "|(24,[0,1,2,3,4,8,...|       1|[-3.1033497882097...|[0.04296929074423...|       1.0|\n",
            "|(24,[0,1,2,3,4,8,...|       1|[-1.9680929169022...|[0.12259387388357...|       1.0|\n",
            "|(24,[0,1,2,3,4,8,...|       0|[1.94598816571698...|[0.87500853282272...|       0.0|\n",
            "|(24,[0,1,2,3,4,8,...|       0|[1.94598816571698...|[0.87500853282272...|       0.0|\n",
            "|(24,[0,1,2,3,4,9,...|       0|[14.8738133426054...|[0.99999965295580...|       0.0|\n",
            "|(24,[0,1,2,3,4,9,...|       0|[-3.3164367719036...|[0.03501159572566...|       1.0|\n",
            "|(24,[0,1,2,3,4,9,...|       1|[-1.1231451713312...|[0.24542835271184...|       1.0|\n",
            "|(24,[0,1,2,3,4,9,...|       0|[-0.9229677912451...|[0.28435357249828...|       1.0|\n",
            "|(24,[0,1,2,3,4,9,...|       0|[-0.1160323357672...|[0.47102441816828...|       1.0|\n",
            "|(24,[0,1,2,3,4,9,...|       1|[-0.5475210176741...|[0.36643974285145...|       1.0|\n",
            "|(24,[0,1,2,3,4,9,...|       0|[28.5654705109548...|[0.99999999999960...|       0.0|\n",
            "|(24,[0,1,2,3,4,9,...|       0|[28.5654705109548...|[0.99999999999960...|       0.0|\n",
            "|(24,[0,1,2,3,4,12...|       0|[31.6217202877673...|[0.99999999999998...|       0.0|\n",
            "|(24,[0,1,2,3,5,7,...|       0|[-1.5899752890822...|[0.16938737361539...|       1.0|\n",
            "|(24,[0,1,2,3,5,7,...|       1|[-3.1837810385482...|[0.03978065367602...|       1.0|\n",
            "+--------------------+--------+--------------------+--------------------+----------+\n",
            "only showing top 20 rows\n",
            "\n"
          ],
          "name": "stdout"
        }
      ]
    },
    {
      "cell_type": "code",
      "metadata": {
        "colab": {
          "base_uri": "https://localhost:8080/"
        },
        "id": "mP-GJ0pSZs5e",
        "outputId": "562f1dfe-7415-42d9-ce55-8fbd4a70fd69"
      },
      "source": [
        "pred_results.accuracy"
      ],
      "execution_count": 341,
      "outputs": [
        {
          "output_type": "execute_result",
          "data": {
            "text/plain": [
              "0.7741935483870968"
            ]
          },
          "metadata": {
            "tags": []
          },
          "execution_count": 341
        }
      ]
    },
    {
      "cell_type": "code",
      "metadata": {
        "colab": {
          "base_uri": "https://localhost:8080/"
        },
        "id": "qPs9NwWTaOyn",
        "outputId": "feabddf9-334d-4c3f-dd5d-36d4dffa13b7"
      },
      "source": [
        "pred_results.areaUnderROC"
      ],
      "execution_count": 342,
      "outputs": [
        {
          "output_type": "execute_result",
          "data": {
            "text/plain": [
              "0.8242408192090395"
            ]
          },
          "metadata": {
            "tags": []
          },
          "execution_count": 342
        }
      ]
    },
    {
      "cell_type": "code",
      "metadata": {
        "colab": {
          "base_uri": "https://localhost:8080/"
        },
        "id": "VhInAsNibOzK",
        "outputId": "0572dff4-a376-4a18-d335-2bb07709c6b1"
      },
      "source": [
        "pred_results.weightedPrecision"
      ],
      "execution_count": 345,
      "outputs": [
        {
          "output_type": "execute_result",
          "data": {
            "text/plain": [
              "0.7734997649163446"
            ]
          },
          "metadata": {
            "tags": []
          },
          "execution_count": 345
        }
      ]
    },
    {
      "cell_type": "code",
      "metadata": {
        "id": "baVNap0DldgB"
      },
      "source": [
        ""
      ],
      "execution_count": null,
      "outputs": []
    }
  ]
}